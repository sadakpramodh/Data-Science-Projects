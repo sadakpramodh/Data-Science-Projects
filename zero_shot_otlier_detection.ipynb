{
  "cells": [
    {
      "cell_type": "code",
      "execution_count": 188,
      "metadata": {
        "id": "H63b9xmxOAdF"
      },
      "outputs": [],
      "source": [
        "## Imports\n",
        "import numpy as np\n",
        "import pandas as pd\n",
        "import random\n",
        "random.seed(314159)  # Ensure repeatabiliy\n",
        "import matplotlib.pyplot as plt\n",
        "import seaborn as sns\n",
        "from datetime import datetime, timedelta"
      ]
    },
    {
      "cell_type": "markdown",
      "metadata": {
        "id": "sCRwOzm4PFFD"
      },
      "source": [
        "### User Parameters\n",
        "\n"
      ]
    },
    {
      "cell_type": "code",
      "execution_count": 62,
      "metadata": {
        "id": "NitbImyYO7Eg"
      },
      "outputs": [],
      "source": [
        "#### Anomaly Generating Settings"
      ]
    },
    {
      "cell_type": "code",
      "execution_count": 63,
      "metadata": {
        "id": "VOOix9b7PBfO"
      },
      "outputs": [],
      "source": [
        "## Sampling\n",
        "replace = True             # Use replacement in sampling\n",
        "\n",
        "# Anomaly Creation\n",
        "anomaly_fraction    = 0.03  # Fraction of the anomalies (0.05 = 5% of the data are anomalies in window.)\n",
        "anomaly_quantile    = 0.60  # Quantile about which the anomaly is centered. (Median=0.50)\n",
        "\n",
        "anomaly_cols        = ['AveRooms', 'AveOccup' , 'Population', 'AveBedrms'] # X_cols used to create anomalies\n"
      ]
    },
    {
      "cell_type": "markdown",
      "metadata": {
        "id": "0nH33HruPlK-"
      },
      "source": [
        "#### Production and Anomaly Windows\n",
        "\n",
        "The California Home Values data set does not contain dates/times or a timestamp for the observations. For illustrartive purposes, we provide an artificial `timestamp`. This allows us to create productions and anomaly windows. These are merely for convenience and do not affect anomaly detection other than restricting generated anomalies to a specific time period.\n",
        "\n",
        "For this demo, the production window is the most recent 20 days with anomalies restricted to from from 6 to 3 days ago. The anomaly window is set back to avoid any boundary effects but in practice this could be done as soon as the data is ingested.  \n"
      ]
    },
    {
      "cell_type": "code",
      "execution_count": 64,
      "metadata": {
        "colab": {
          "base_uri": "https://localhost:8080/"
        },
        "id": "IFll_c5sPcOh",
        "outputId": "b374a01a-cfaf-4178-c2e4-0eeb88c5954e"
      },
      "outputs": [
        {
          "name": "stdout",
          "output_type": "stream",
          "text": [
            "production is from: 2023-12-14 through 2024-01-02\n",
            "Anomalies is from: 2023-12-27 through 2023-12-29\n"
          ]
        }
      ],
      "source": [
        "# Time Window Defintiions\n",
        "\n",
        "# Useful Definitions\n",
        "now               = datetime.now()\n",
        "today             = now.replace( hour=0, minute=0, second=0, microsecond=0 )\n",
        "yesterday_end     = today - timedelta( microseconds=1 )\n",
        "\n",
        "# this_month_start  = now.replace( day=1, hour=0, minute=0, second=0, microsecond=0 )\n",
        "# last_month_end    = this_month_start - timedelta( microseconds = 1 )\n",
        "# last_month_start  = last_month_end.replace( day=1, hour=0, minute=0, second=0, microsecond=0 )\n",
        "\n",
        "# prod window\n",
        "current_prod_day = datetime.today()\n",
        "prod_start       = today - timedelta( days=20 ) # current_prod_day - timedelta( days=20 )\n",
        "prod_end         = yesterday_end\n",
        "\n",
        "print( \"production is from: \" + str( prod_start.date() ) + \" through \" + str( prod_end.date() ) )\n",
        "\n",
        "# anomaly occurs from the 24 thru 26 of the month\n",
        "anom_start     = ( prod_end - timedelta( days=6 ) ).replace( hour=0, minute=0, second=0)\n",
        "anom_end       = ( prod_end - timedelta( days=3 ) ).replace(second=0, microsecond=0, minute=0, hour=0 ) - timedelta( microseconds=1 )\n",
        "\n",
        "print( \"Anomalies is from: \" + str( anom_start.date() ) + \" through \" + str( anom_end.date() ) )"
      ]
    },
    {
      "cell_type": "markdown",
      "metadata": {
        "id": "WcprOw4-RrJI"
      },
      "source": [
        "### Data: Californa Medium Home Values from the 1990 Census\n",
        "\n",
        "For this example, we use the California Home Values from the 1990 US Census (Pace et al, 1997) that can be found [online](https://developers.google.com/machine-learning/crash-course/california-housing-data-description)[ref] and is incorporated in the [SciKit-Learn](https://scikit-learn.org/stable/datasets/real_world.html#7.2.7) Python package.  (This data set was selected because of its cleanliness, use of continuous/numeric features, and general availability. We have performed experiments on similar data.)\n",
        "\n",
        "**References**\n",
        "\n",
        "* Pace, R. Kelley, and Ronald Barry, \"Sparse Spatial Autoregressions,\" Statistics and Probability Letters, Volume 33, Number 3, May 5 1997, p. 291-297."
      ]
    },
    {
      "cell_type": "code",
      "execution_count": 65,
      "metadata": {
        "id": "sLs8WJMVQx1E"
      },
      "outputs": [],
      "source": [
        "from sklearn.datasets import fetch_california_housing\n",
        "\n",
        "data = fetch_california_housing(as_frame=True).frame\n",
        "\n",
        "y_col  = 'MedHouseVal'               # Column Name of dependent variable `y`\n",
        "X_cols = data.columns.drop(y_col)    # Column Name of independent variables of `X`\n",
        "\n",
        "# data.describe()  # Describe Data\n",
        "# data.hist(bins=30, figsize=(15, 10))  # Show Histograms"
      ]
    },
    {
      "cell_type": "markdown",
      "metadata": {
        "id": "l-TnoOzWZ2Ge"
      },
      "source": [
        "### Create Train and Production Data\n",
        "\n",
        "Using the California Home Values, we create `train`, `prod`, and `anomalies` data sets using sampling with replacement. We also add a `timestamp` to the data to provide the data as a time series.\n",
        "\n"
      ]
    },
    {
      "cell_type": "code",
      "execution_count": 66,
      "metadata": {
        "id": "PHZyxDQWPpSI"
      },
      "outputs": [],
      "source": [
        "# Generate Data `train` and `prod` by sampling from `data` with replacement\n",
        "\n",
        "## Training Data\n",
        "train = data.sample( n=5000, replace=replace ).reset_index()\n",
        "train['timestamp'] = current_prod_day  # This doesn't matter it could be anytime out o\n",
        "\n",
        "## Production Data\n",
        "prod_obs_list = []    # list of observation to be appended\n",
        "day_to_set = prod_end\n",
        "\n",
        "while day_to_set >= prod_start:\n",
        "  #Randomize daily volume except for anomalies (for convenience)\n",
        "  if ( day_to_set >= anom_start ) and (day_to_set <= anom_end ):\n",
        "      daily_volume = 1000\n",
        "  else:\n",
        "    # 500-2000 productions obs / day\n",
        "    daily_volume = random.randint(500, 2000)\n",
        "\n",
        "  #Create a days worth of dataframe data as random sample from raw day\n",
        "  data_day = data.sample(n=daily_volume, replace=replace)\n",
        "  data_day['timestamp'] = day_to_set\n",
        "  prod_obs_list.append(data_day)\n",
        "\n",
        "  day_to_set = day_to_set - timedelta(days=1)  # Iterate backwards.\n",
        "\n",
        "  prod = pd.concat( prod_obs_list ).reset_index()\n"
      ]
    },
    {
      "cell_type": "code",
      "execution_count": 67,
      "metadata": {
        "colab": {
          "base_uri": "https://localhost:8080/"
        },
        "id": "be5U0ij_Z7MU",
        "outputId": "ac8748e3-1356-475d-b726-0e84fd6574bc"
      },
      "outputs": [
        {
          "name": "stdout",
          "output_type": "stream",
          "text": [
            "(5000, 11)\n",
            "(22866, 11)\n"
          ]
        }
      ],
      "source": [
        "print(train.shape)\n",
        "print(prod.shape)"
      ]
    },
    {
      "cell_type": "code",
      "execution_count": 68,
      "metadata": {
        "colab": {
          "base_uri": "https://localhost:8080/"
        },
        "id": "qtbgst77aeCq",
        "outputId": "31017a78-3d15-4398-adf6-5717aa5b71ed"
      },
      "outputs": [
        {
          "name": "stdout",
          "output_type": "stream",
          "text": [
            "2023-12-13 23:59:59.999999\n",
            "2023-12-14 00:00:00\n"
          ]
        }
      ],
      "source": [
        "print(day_to_set)\n",
        "print(prod_start)"
      ]
    },
    {
      "cell_type": "code",
      "execution_count": 69,
      "metadata": {
        "colab": {
          "base_uri": "https://localhost:8080/",
          "height": 313
        },
        "id": "8z8dN30EaR23",
        "outputId": "f9d2f2c5-0ea3-47dd-a010-a29bbfbbd2aa"
      },
      "outputs": [
        {
          "data": {
            "text/html": [
              "<div>\n",
              "<style scoped>\n",
              "    .dataframe tbody tr th:only-of-type {\n",
              "        vertical-align: middle;\n",
              "    }\n",
              "\n",
              "    .dataframe tbody tr th {\n",
              "        vertical-align: top;\n",
              "    }\n",
              "\n",
              "    .dataframe thead th {\n",
              "        text-align: right;\n",
              "    }\n",
              "</style>\n",
              "<table border=\"1\" class=\"dataframe\">\n",
              "  <thead>\n",
              "    <tr style=\"text-align: right;\">\n",
              "      <th></th>\n",
              "      <th>index</th>\n",
              "      <th>MedInc</th>\n",
              "      <th>HouseAge</th>\n",
              "      <th>AveRooms</th>\n",
              "      <th>AveBedrms</th>\n",
              "      <th>Population</th>\n",
              "      <th>AveOccup</th>\n",
              "      <th>Latitude</th>\n",
              "      <th>Longitude</th>\n",
              "      <th>MedHouseVal</th>\n",
              "      <th>timestamp</th>\n",
              "    </tr>\n",
              "  </thead>\n",
              "  <tbody>\n",
              "    <tr>\n",
              "      <th>0</th>\n",
              "      <td>19653</td>\n",
              "      <td>1.9429</td>\n",
              "      <td>39.0</td>\n",
              "      <td>3.853460</td>\n",
              "      <td>0.994573</td>\n",
              "      <td>2606.0</td>\n",
              "      <td>3.535957</td>\n",
              "      <td>37.49</td>\n",
              "      <td>-120.85</td>\n",
              "      <td>0.764</td>\n",
              "      <td>2024-01-03 21:37:09.787351</td>\n",
              "    </tr>\n",
              "    <tr>\n",
              "      <th>1</th>\n",
              "      <td>9332</td>\n",
              "      <td>5.5789</td>\n",
              "      <td>36.0</td>\n",
              "      <td>5.365462</td>\n",
              "      <td>1.036145</td>\n",
              "      <td>678.0</td>\n",
              "      <td>2.722892</td>\n",
              "      <td>38.01</td>\n",
              "      <td>-122.64</td>\n",
              "      <td>2.920</td>\n",
              "      <td>2024-01-03 21:37:09.787351</td>\n",
              "    </tr>\n",
              "    <tr>\n",
              "      <th>2</th>\n",
              "      <td>7759</td>\n",
              "      <td>4.4750</td>\n",
              "      <td>36.0</td>\n",
              "      <td>5.452736</td>\n",
              "      <td>1.014925</td>\n",
              "      <td>569.0</td>\n",
              "      <td>2.830846</td>\n",
              "      <td>33.91</td>\n",
              "      <td>-118.14</td>\n",
              "      <td>1.823</td>\n",
              "      <td>2024-01-03 21:37:09.787351</td>\n",
              "    </tr>\n",
              "    <tr>\n",
              "      <th>3</th>\n",
              "      <td>13957</td>\n",
              "      <td>5.5762</td>\n",
              "      <td>17.0</td>\n",
              "      <td>10.359649</td>\n",
              "      <td>2.377193</td>\n",
              "      <td>248.0</td>\n",
              "      <td>2.175439</td>\n",
              "      <td>34.17</td>\n",
              "      <td>-117.13</td>\n",
              "      <td>1.500</td>\n",
              "      <td>2024-01-03 21:37:09.787351</td>\n",
              "    </tr>\n",
              "    <tr>\n",
              "      <th>4</th>\n",
              "      <td>4137</td>\n",
              "      <td>4.2100</td>\n",
              "      <td>45.0</td>\n",
              "      <td>5.089172</td>\n",
              "      <td>1.036093</td>\n",
              "      <td>1569.0</td>\n",
              "      <td>3.331210</td>\n",
              "      <td>34.12</td>\n",
              "      <td>-118.18</td>\n",
              "      <td>1.679</td>\n",
              "      <td>2024-01-03 21:37:09.787351</td>\n",
              "    </tr>\n",
              "  </tbody>\n",
              "</table>\n",
              "</div>"
            ],
            "text/plain": [
              "   index  MedInc  HouseAge   AveRooms  AveBedrms  Population  AveOccup  \\\n",
              "0  19653  1.9429      39.0   3.853460   0.994573      2606.0  3.535957   \n",
              "1   9332  5.5789      36.0   5.365462   1.036145       678.0  2.722892   \n",
              "2   7759  4.4750      36.0   5.452736   1.014925       569.0  2.830846   \n",
              "3  13957  5.5762      17.0  10.359649   2.377193       248.0  2.175439   \n",
              "4   4137  4.2100      45.0   5.089172   1.036093      1569.0  3.331210   \n",
              "\n",
              "   Latitude  Longitude  MedHouseVal                  timestamp  \n",
              "0     37.49    -120.85        0.764 2024-01-03 21:37:09.787351  \n",
              "1     38.01    -122.64        2.920 2024-01-03 21:37:09.787351  \n",
              "2     33.91    -118.14        1.823 2024-01-03 21:37:09.787351  \n",
              "3     34.17    -117.13        1.500 2024-01-03 21:37:09.787351  \n",
              "4     34.12    -118.18        1.679 2024-01-03 21:37:09.787351  "
            ]
          },
          "execution_count": 69,
          "metadata": {},
          "output_type": "execute_result"
        }
      ],
      "source": [
        "train.head()"
      ]
    },
    {
      "cell_type": "markdown",
      "metadata": {
        "id": "ajqm45OjcWPj"
      },
      "source": [
        "###  Create Anomalies\n",
        "\n",
        "For this demo anomalies are generated with our three factors from Section I and limited to a single anomaly window.  \n",
        "\n",
        "`anomaly_fraction` is the fraction of observations that are anomalous.\n",
        "\n",
        "`anomaly quantile` defines the location of the n-dimensional box of anomalies\n",
        "\n",
        "`anomaly_cols` define the list of variable affected\n",
        "\n",
        "\n",
        "\n",
        "The anomalies are generated within a n-dimension box. The box is identified with independent columns in the data. For our example, we use four columns: `AveRooms`, `AveOccup`, `Population`, and `AveBedrms`. ( We note that in general, the fewer the columns used, the harder to detect an anomaly. The number and choice of columns is flexible, however. A different number or set of columns may yield different detections limits. A quick partial factorial design of experiments can be conducted to ascertain precise detection limits. That is not done for this demo.)  \n",
        "\n",
        "The ability to detect anomalies is determined by two factors: (a) the number of anomalous observations and (b) the degree of *outlierness* or the amount those observations stick out of a reference distribution.\n",
        "\n",
        "In order to simulate this, we defined an `anomaly quantile` parameter that would center anomlous around a specific quantile.  For instance, the an"
      ]
    },
    {
      "cell_type": "code",
      "execution_count": 70,
      "metadata": {
        "id": "h2barS_QaWQY"
      },
      "outputs": [],
      "source": [
        "## Create Anomalies\n",
        "# See settings for: anomaly_quantile, anomaly_fraction, anomaly_cols\n",
        "\n",
        "total_volume_anomaly_days = len( prod[( prod['timestamp'] >=  anom_start ) & ( prod['timestamp'] <= anom_end ) ] )\n",
        "total_anomaly_days = (anom_end - anom_start).days + 1\n",
        "\n",
        "n_anomalies_per_day = int(anomaly_fraction * (total_volume_anomaly_days/total_anomaly_days) * (1 / (1-anomaly_fraction)))\n",
        "n_anomalies =   n_anomalies_per_day * total_anomaly_days\n",
        "\n",
        "\n",
        "anomalies = pd.DataFrame()  # DataFrame to hold each anomaly\n",
        "\n",
        "# Make a DF by repeating that observation\n",
        "for i in range( n_anomalies ):\n",
        "  row = prod.sample(n=1,replace=True)\n",
        "  anomalies = pd.concat( [ anomalies, row ] )\n",
        "\n",
        "anomalies = anomalies.reset_index( drop = True )\n",
        "\n",
        "\n",
        "# Set `anomaly` flag\n",
        "train['anomaly'] = False\n",
        "prod['anomaly'] = False\n",
        "anomalies['anomaly'] = True"
      ]
    },
    {
      "cell_type": "code",
      "execution_count": 71,
      "metadata": {
        "colab": {
          "base_uri": "https://localhost:8080/",
          "height": 330
        },
        "id": "gYiHESttdcon",
        "outputId": "505b7469-9154-4f51-dce0-5b075e5d501a"
      },
      "outputs": [
        {
          "name": "stdout",
          "output_type": "stream",
          "text": [
            "30\n"
          ]
        },
        {
          "data": {
            "text/html": [
              "<div>\n",
              "<style scoped>\n",
              "    .dataframe tbody tr th:only-of-type {\n",
              "        vertical-align: middle;\n",
              "    }\n",
              "\n",
              "    .dataframe tbody tr th {\n",
              "        vertical-align: top;\n",
              "    }\n",
              "\n",
              "    .dataframe thead th {\n",
              "        text-align: right;\n",
              "    }\n",
              "</style>\n",
              "<table border=\"1\" class=\"dataframe\">\n",
              "  <thead>\n",
              "    <tr style=\"text-align: right;\">\n",
              "      <th></th>\n",
              "      <th>index</th>\n",
              "      <th>MedInc</th>\n",
              "      <th>HouseAge</th>\n",
              "      <th>AveRooms</th>\n",
              "      <th>AveBedrms</th>\n",
              "      <th>Population</th>\n",
              "      <th>AveOccup</th>\n",
              "      <th>Latitude</th>\n",
              "      <th>Longitude</th>\n",
              "      <th>MedHouseVal</th>\n",
              "      <th>timestamp</th>\n",
              "      <th>anomaly</th>\n",
              "    </tr>\n",
              "  </thead>\n",
              "  <tbody>\n",
              "    <tr>\n",
              "      <th>0</th>\n",
              "      <td>3306</td>\n",
              "      <td>1.7273</td>\n",
              "      <td>29.0</td>\n",
              "      <td>6.492647</td>\n",
              "      <td>1.375000</td>\n",
              "      <td>326.0</td>\n",
              "      <td>2.397059</td>\n",
              "      <td>38.96</td>\n",
              "      <td>-122.64</td>\n",
              "      <td>0.582</td>\n",
              "      <td>2023-12-22 23:59:59.999999</td>\n",
              "      <td>True</td>\n",
              "    </tr>\n",
              "    <tr>\n",
              "      <th>1</th>\n",
              "      <td>4320</td>\n",
              "      <td>2.8021</td>\n",
              "      <td>47.0</td>\n",
              "      <td>3.765690</td>\n",
              "      <td>1.142259</td>\n",
              "      <td>921.0</td>\n",
              "      <td>1.926778</td>\n",
              "      <td>34.09</td>\n",
              "      <td>-118.35</td>\n",
              "      <td>2.806</td>\n",
              "      <td>2023-12-28 23:59:59.999999</td>\n",
              "      <td>True</td>\n",
              "    </tr>\n",
              "    <tr>\n",
              "      <th>2</th>\n",
              "      <td>5796</td>\n",
              "      <td>2.4620</td>\n",
              "      <td>28.0</td>\n",
              "      <td>3.599609</td>\n",
              "      <td>1.082031</td>\n",
              "      <td>1402.0</td>\n",
              "      <td>2.738281</td>\n",
              "      <td>34.14</td>\n",
              "      <td>-118.24</td>\n",
              "      <td>2.540</td>\n",
              "      <td>2023-12-23 23:59:59.999999</td>\n",
              "      <td>True</td>\n",
              "    </tr>\n",
              "    <tr>\n",
              "      <th>3</th>\n",
              "      <td>5475</td>\n",
              "      <td>3.6458</td>\n",
              "      <td>44.0</td>\n",
              "      <td>4.567961</td>\n",
              "      <td>1.116505</td>\n",
              "      <td>493.0</td>\n",
              "      <td>2.393204</td>\n",
              "      <td>34.00</td>\n",
              "      <td>-118.46</td>\n",
              "      <td>3.258</td>\n",
              "      <td>2024-01-02 23:59:59.999999</td>\n",
              "      <td>True</td>\n",
              "    </tr>\n",
              "    <tr>\n",
              "      <th>4</th>\n",
              "      <td>17343</td>\n",
              "      <td>4.3750</td>\n",
              "      <td>15.0</td>\n",
              "      <td>5.373626</td>\n",
              "      <td>1.027473</td>\n",
              "      <td>407.0</td>\n",
              "      <td>2.236264</td>\n",
              "      <td>34.86</td>\n",
              "      <td>-120.41</td>\n",
              "      <td>1.580</td>\n",
              "      <td>2023-12-17 23:59:59.999999</td>\n",
              "      <td>True</td>\n",
              "    </tr>\n",
              "  </tbody>\n",
              "</table>\n",
              "</div>"
            ],
            "text/plain": [
              "   index  MedInc  HouseAge  AveRooms  AveBedrms  Population  AveOccup  \\\n",
              "0   3306  1.7273      29.0  6.492647   1.375000       326.0  2.397059   \n",
              "1   4320  2.8021      47.0  3.765690   1.142259       921.0  1.926778   \n",
              "2   5796  2.4620      28.0  3.599609   1.082031      1402.0  2.738281   \n",
              "3   5475  3.6458      44.0  4.567961   1.116505       493.0  2.393204   \n",
              "4  17343  4.3750      15.0  5.373626   1.027473       407.0  2.236264   \n",
              "\n",
              "   Latitude  Longitude  MedHouseVal                  timestamp  anomaly  \n",
              "0     38.96    -122.64        0.582 2023-12-22 23:59:59.999999     True  \n",
              "1     34.09    -118.35        2.806 2023-12-28 23:59:59.999999     True  \n",
              "2     34.14    -118.24        2.540 2023-12-23 23:59:59.999999     True  \n",
              "3     34.00    -118.46        3.258 2024-01-02 23:59:59.999999     True  \n",
              "4     34.86    -120.41        1.580 2023-12-17 23:59:59.999999     True  "
            ]
          },
          "execution_count": 71,
          "metadata": {},
          "output_type": "execute_result"
        }
      ],
      "source": [
        "print(n_anomalies_per_day)\n",
        "anomalies.head()"
      ]
    },
    {
      "cell_type": "code",
      "execution_count": 72,
      "metadata": {
        "colab": {
          "base_uri": "https://localhost:8080/"
        },
        "id": "wQvE2eoQcxg9",
        "outputId": "e80631bf-e289-4538-ade5-2eaa565669a3"
      },
      "outputs": [
        {
          "name": "stdout",
          "output_type": "stream",
          "text": [
            "Column AveRooms quantile 5.521 setting to +/- 0.95/1.05 is 5.245 5.797\n",
            "Column AveOccup quantile 2.98 setting to +/- 0.95/1.05 is 2.831 3.129\n",
            "Column Population quantile 1348.4 setting to +/- 0.95/1.05 is 1280.98 1415.82\n",
            "Column AveBedrms quantile 1.066 setting to +/- 0.95/1.05 is 1.013 1.119\n",
            "Anomalies created: 90\n"
          ]
        }
      ],
      "source": [
        "# Generate Timestamp.\n",
        "anomalies['timestamp'] = pd.to_datetime(\n",
        "    pd.Series(\n",
        "      np.random.uniform( anom_start.timestamp(), anom_end.timestamp(), n_anomalies )\n",
        "    )\n",
        "    , unit='s'\n",
        "  )\n",
        "\n",
        "# Generate Anomalies\n",
        "for x in anomaly_cols:\n",
        "  quantile_for_column = data[x].quantile( anomaly_quantile )\n",
        "  print(\"Column \" + x + \" quantile \" + str( round(quantile_for_column, 3)) +\" setting to +/- 0.95/1.05 is \" + str( round(0.95*quantile_for_column,3) ) + \" \" + str( round(1.05*quantile_for_column, 3)) )\n",
        "  anomalies[x] = quantile_for_column* np.random.uniform( 0.95, 1.05, anomalies.shape[0])\n",
        "\n",
        "print( \"Anomalies created: \" + str(anomalies.shape[0]) )\n"
      ]
    },
    {
      "cell_type": "markdown",
      "metadata": {
        "id": "ffS14gtzhNiQ"
      },
      "source": [
        "#### Concatenate Anomalies to Production Data.\n",
        "\n",
        "Here we concatenate production and anomalies into a single data set. Randomization is introduced as a safeguard.  "
      ]
    },
    {
      "cell_type": "code",
      "execution_count": 73,
      "metadata": {
        "id": "nNGw82zMePKq"
      },
      "outputs": [],
      "source": [
        "if sum(prod.anomaly) == 0:              # Ensures idempotency, this is done one time.\n",
        "  prod=pd.concat( [prod, anomalies] )\n",
        "\n",
        "prod = prod.sample(frac=1, axis=0).reset_index(drop=True)"
      ]
    },
    {
      "cell_type": "code",
      "execution_count": 74,
      "metadata": {
        "colab": {
          "base_uri": "https://localhost:8080/"
        },
        "id": "oQc7nPJyeRbG",
        "outputId": "60a0a663-6905-4b12-c6c9-f7182449de64"
      },
      "outputs": [
        {
          "data": {
            "text/plain": [
              "(22956, 12)"
            ]
          },
          "execution_count": 74,
          "metadata": {},
          "output_type": "execute_result"
        }
      ],
      "source": [
        "prod.shape"
      ]
    },
    {
      "cell_type": "markdown",
      "metadata": {
        "id": "GeUKotE0iA_Q"
      },
      "source": [
        "### (Optional) Train Model: RF\n",
        "\n",
        "For the anomaly detection, we do not need to train or predict using a model.  This is added of reference.  We follow a very simple  process here using a Random Forest leaner because of its ease of use and few hyper parameters."
      ]
    },
    {
      "cell_type": "code",
      "execution_count": 75,
      "metadata": {
        "colab": {
          "base_uri": "https://localhost:8080/"
        },
        "id": "24IrT8iBiMN6",
        "outputId": "8eee457f-1581-47cf-c84b-d5664bb3d998"
      },
      "outputs": [
        {
          "data": {
            "text/plain": [
              "Index(['MedInc', 'HouseAge', 'AveRooms', 'AveBedrms', 'Population', 'AveOccup',\n",
              "       'Latitude', 'Longitude'],\n",
              "      dtype='object')"
            ]
          },
          "execution_count": 75,
          "metadata": {},
          "output_type": "execute_result"
        }
      ],
      "source": [
        "X_cols"
      ]
    },
    {
      "cell_type": "code",
      "execution_count": 76,
      "metadata": {
        "colab": {
          "base_uri": "https://localhost:8080/",
          "height": 36
        },
        "id": "RDl0ZTYAibzs",
        "outputId": "8fa40321-5aac-4235-e248-d07bf79c95a1"
      },
      "outputs": [
        {
          "data": {
            "text/plain": [
              "'MedHouseVal'"
            ]
          },
          "execution_count": 76,
          "metadata": {},
          "output_type": "execute_result"
        }
      ],
      "source": [
        "y_col"
      ]
    },
    {
      "cell_type": "code",
      "execution_count": 77,
      "metadata": {
        "colab": {
          "base_uri": "https://localhost:8080/",
          "height": 74
        },
        "id": "mK4mt2WjiAPa",
        "outputId": "88bbdd14-0ff5-47f2-f95c-901fe7c3847f"
      },
      "outputs": [
        {
          "data": {
            "text/html": [
              "<style>#sk-container-id-2 {color: black;}#sk-container-id-2 pre{padding: 0;}#sk-container-id-2 div.sk-toggleable {background-color: white;}#sk-container-id-2 label.sk-toggleable__label {cursor: pointer;display: block;width: 100%;margin-bottom: 0;padding: 0.3em;box-sizing: border-box;text-align: center;}#sk-container-id-2 label.sk-toggleable__label-arrow:before {content: \"▸\";float: left;margin-right: 0.25em;color: #696969;}#sk-container-id-2 label.sk-toggleable__label-arrow:hover:before {color: black;}#sk-container-id-2 div.sk-estimator:hover label.sk-toggleable__label-arrow:before {color: black;}#sk-container-id-2 div.sk-toggleable__content {max-height: 0;max-width: 0;overflow: hidden;text-align: left;background-color: #f0f8ff;}#sk-container-id-2 div.sk-toggleable__content pre {margin: 0.2em;color: black;border-radius: 0.25em;background-color: #f0f8ff;}#sk-container-id-2 input.sk-toggleable__control:checked~div.sk-toggleable__content {max-height: 200px;max-width: 100%;overflow: auto;}#sk-container-id-2 input.sk-toggleable__control:checked~label.sk-toggleable__label-arrow:before {content: \"▾\";}#sk-container-id-2 div.sk-estimator input.sk-toggleable__control:checked~label.sk-toggleable__label {background-color: #d4ebff;}#sk-container-id-2 div.sk-label input.sk-toggleable__control:checked~label.sk-toggleable__label {background-color: #d4ebff;}#sk-container-id-2 input.sk-hidden--visually {border: 0;clip: rect(1px 1px 1px 1px);clip: rect(1px, 1px, 1px, 1px);height: 1px;margin: -1px;overflow: hidden;padding: 0;position: absolute;width: 1px;}#sk-container-id-2 div.sk-estimator {font-family: monospace;background-color: #f0f8ff;border: 1px dotted black;border-radius: 0.25em;box-sizing: border-box;margin-bottom: 0.5em;}#sk-container-id-2 div.sk-estimator:hover {background-color: #d4ebff;}#sk-container-id-2 div.sk-parallel-item::after {content: \"\";width: 100%;border-bottom: 1px solid gray;flex-grow: 1;}#sk-container-id-2 div.sk-label:hover label.sk-toggleable__label {background-color: #d4ebff;}#sk-container-id-2 div.sk-serial::before {content: \"\";position: absolute;border-left: 1px solid gray;box-sizing: border-box;top: 0;bottom: 0;left: 50%;z-index: 0;}#sk-container-id-2 div.sk-serial {display: flex;flex-direction: column;align-items: center;background-color: white;padding-right: 0.2em;padding-left: 0.2em;position: relative;}#sk-container-id-2 div.sk-item {position: relative;z-index: 1;}#sk-container-id-2 div.sk-parallel {display: flex;align-items: stretch;justify-content: center;background-color: white;position: relative;}#sk-container-id-2 div.sk-item::before, #sk-container-id-2 div.sk-parallel-item::before {content: \"\";position: absolute;border-left: 1px solid gray;box-sizing: border-box;top: 0;bottom: 0;left: 50%;z-index: -1;}#sk-container-id-2 div.sk-parallel-item {display: flex;flex-direction: column;z-index: 1;position: relative;background-color: white;}#sk-container-id-2 div.sk-parallel-item:first-child::after {align-self: flex-end;width: 50%;}#sk-container-id-2 div.sk-parallel-item:last-child::after {align-self: flex-start;width: 50%;}#sk-container-id-2 div.sk-parallel-item:only-child::after {width: 0;}#sk-container-id-2 div.sk-dashed-wrapped {border: 1px dashed gray;margin: 0 0.4em 0.5em 0.4em;box-sizing: border-box;padding-bottom: 0.4em;background-color: white;}#sk-container-id-2 div.sk-label label {font-family: monospace;font-weight: bold;display: inline-block;line-height: 1.2em;}#sk-container-id-2 div.sk-label-container {text-align: center;}#sk-container-id-2 div.sk-container {/* jupyter's `normalize.less` sets `[hidden] { display: none; }` but bootstrap.min.css set `[hidden] { display: none !important; }` so we also need the `!important` here to be able to override the default hidden behavior on the sphinx rendered scikit-learn.org. See: https://github.com/scikit-learn/scikit-learn/issues/21755 */display: inline-block !important;position: relative;}#sk-container-id-2 div.sk-text-repr-fallback {display: none;}</style><div id=\"sk-container-id-2\" class=\"sk-top-container\"><div class=\"sk-text-repr-fallback\"><pre>RandomForestRegressor(max_depth=5, random_state=0)</pre><b>In a Jupyter environment, please rerun this cell to show the HTML representation or trust the notebook. <br />On GitHub, the HTML representation is unable to render, please try loading this page with nbviewer.org.</b></div><div class=\"sk-container\" hidden><div class=\"sk-item\"><div class=\"sk-estimator sk-toggleable\"><input class=\"sk-toggleable__control sk-hidden--visually\" id=\"sk-estimator-id-2\" type=\"checkbox\" checked><label for=\"sk-estimator-id-2\" class=\"sk-toggleable__label sk-toggleable__label-arrow\">RandomForestRegressor</label><div class=\"sk-toggleable__content\"><pre>RandomForestRegressor(max_depth=5, random_state=0)</pre></div></div></div></div></div>"
            ],
            "text/plain": [
              "RandomForestRegressor(max_depth=5, random_state=0)"
            ]
          },
          "execution_count": 77,
          "metadata": {},
          "output_type": "execute_result"
        }
      ],
      "source": [
        "## (Optional) Train Model\n",
        "from sklearn.ensemble import RandomForestRegressor\n",
        "\n",
        "# target = 'MedHouseVal'\n",
        "drop_col = [ 'timestamp', 'index' ]\n",
        "drop_col.append( y_col )\n",
        "\n",
        "# x_cols = train.columns.drop( drop_col )\n",
        "\n",
        "y = train[ y_col ]\n",
        "X = train[ X_cols ]\n",
        "\n",
        "# Train Model\n",
        "regr = RandomForestRegressor(max_depth=5, random_state=0)\n",
        "regr.fit(X, y)"
      ]
    },
    {
      "cell_type": "markdown",
      "metadata": {
        "id": "0khgI85Gh40R"
      },
      "source": [
        "### (Optional) Predict Using the Model\n",
        "\n",
        "This is optional and is not used for anomaly detection which is based on independent variables (features) only."
      ]
    },
    {
      "cell_type": "code",
      "execution_count": 78,
      "metadata": {
        "id": "p27xSAP1hWTa"
      },
      "outputs": [],
      "source": [
        "pred_col = 'prediction'\n",
        "\n",
        "train[ pred_col ] = regr.predict( train[ X_cols ] )\n",
        "prod[ pred_col ] = regr.predict( prod[ X_cols ] )"
      ]
    },
    {
      "cell_type": "markdown",
      "metadata": {
        "id": "J61wfeXxyf1c"
      },
      "source": [
        "### Create a function named generate_embedings()\n",
        "\n",
        "1.   First we need to convert text into prompt.\n",
        "2.   Then apply the Embeding techniques\n",
        "\n"
      ]
    },
    {
      "cell_type": "code",
      "execution_count": 79,
      "metadata": {
        "colab": {
          "base_uri": "https://localhost:8080/"
        },
        "id": "0C0Z6ZsLh7SO",
        "outputId": "7b44eeec-bb81-48ac-a44d-38251d80a817"
      },
      "outputs": [
        {
          "data": {
            "text/plain": [
              "False"
            ]
          },
          "execution_count": 79,
          "metadata": {},
          "output_type": "execute_result"
        }
      ],
      "source": [
        "import torch\n",
        "torch.cuda.is_available()"
      ]
    },
    {
      "cell_type": "code",
      "execution_count": 57,
      "metadata": {
        "id": "E0dnqoIh1ZjD"
      },
      "outputs": [
        {
          "name": "stdout",
          "output_type": "stream",
          "text": [
            "\n",
            "===================================BUG REPORT===================================\n",
            "Welcome to bitsandbytes. For bug reports, please submit your error trace to: https://github.com/TimDettmers/bitsandbytes/issues\n",
            "================================================================================\n",
            "binary_path: C:\\Users\\sadak\\AppData\\Local\\Packages\\PythonSoftwareFoundation.Python.3.11_qbz5n2kfra8p0\\LocalCache\\local-packages\\Python311\\site-packages\\bitsandbytes\\cuda_setup\\libbitsandbytes_cuda116.dll\n",
            "CUDA SETUP: Loading binary C:\\Users\\sadak\\AppData\\Local\\Packages\\PythonSoftwareFoundation.Python.3.11_qbz5n2kfra8p0\\LocalCache\\local-packages\\Python311\\site-packages\\bitsandbytes\\cuda_setup\\libbitsandbytes_cuda116.dll...\n",
            "Could not find module 'C:\\Users\\sadak\\AppData\\Local\\Packages\\PythonSoftwareFoundation.Python.3.11_qbz5n2kfra8p0\\LocalCache\\local-packages\\Python311\\site-packages\\bitsandbytes\\cuda_setup\\libbitsandbytes_cuda116.dll' (or one of its dependencies). Try using the full path with constructor syntax.\n",
            "CUDA SETUP: Loading binary C:\\Users\\sadak\\AppData\\Local\\Packages\\PythonSoftwareFoundation.Python.3.11_qbz5n2kfra8p0\\LocalCache\\local-packages\\Python311\\site-packages\\bitsandbytes\\cuda_setup\\libbitsandbytes_cuda116.dll...\n",
            "Could not find module 'C:\\Users\\sadak\\AppData\\Local\\Packages\\PythonSoftwareFoundation.Python.3.11_qbz5n2kfra8p0\\LocalCache\\local-packages\\Python311\\site-packages\\bitsandbytes\\cuda_setup\\libbitsandbytes_cuda116.dll' (or one of its dependencies). Try using the full path with constructor syntax.\n"
          ]
        },
        {
          "name": "stderr",
          "output_type": "stream",
          "text": [
            "C:\\Users\\sadak\\AppData\\Local\\Packages\\PythonSoftwareFoundation.Python.3.11_qbz5n2kfra8p0\\LocalCache\\local-packages\\Python311\\site-packages\\bitsandbytes\\cextension.py:31: UserWarning: The installed version of bitsandbytes was compiled without GPU support. 8-bit optimizers and GPU quantization are unavailable.\n",
            "  warn(\"The installed version of bitsandbytes was compiled without GPU support. \"\n"
          ]
        }
      ],
      "source": [
        "from transformers import DistilBertModel"
      ]
    },
    {
      "cell_type": "code",
      "execution_count": 58,
      "metadata": {
        "id": "Ci0htAFk0Dd8"
      },
      "outputs": [],
      "source": [
        "#load the tokenizer\n",
        "from transformers import AutoTokenizer\n",
        "tokenizer = AutoTokenizer.from_pretrained(\"distilbert-base-uncased\")\n"
      ]
    },
    {
      "cell_type": "code",
      "execution_count": 59,
      "metadata": {
        "id": "HmFf8rwc0jKp"
      },
      "outputs": [],
      "source": [
        "model = DistilBertModel.from_pretrained('distilbert-base-uncased')"
      ]
    },
    {
      "cell_type": "code",
      "execution_count": 60,
      "metadata": {
        "id": "eU0PF5-p2AO2"
      },
      "outputs": [],
      "source": [
        "# Your text to embed\n",
        "#text = \"Replace me by any text you'd like.\"\n",
        "\n",
        "# Encode the text\n",
        "#encoded_input = tokenizer(text, return_tensors='pt')\n",
        "\n",
        "# Get the model output\n",
        "#output = model(**encoded_input)"
      ]
    },
    {
      "cell_type": "code",
      "execution_count": null,
      "metadata": {
        "id": "lITI4Nks2CEK"
      },
      "outputs": [],
      "source": []
    },
    {
      "cell_type": "markdown",
      "metadata": {
        "id": "W5fZP9vth8sb"
      },
      "source": [
        "\n",
        "\n",
        "1.   The output shape of distilled bert is 1,num_of_tokens,764\n",
        "2.   Each sentence divided into tokens each token passes through the distilled bert model and generates 764 dimensional vector.\n",
        "\n"
      ]
    },
    {
      "cell_type": "markdown",
      "metadata": {},
      "source": []
    },
    {
      "cell_type": "code",
      "execution_count": 80,
      "metadata": {
        "id": "luskK4mQ0N2f"
      },
      "outputs": [],
      "source": [
        "#Load the model\n",
        "#def preprocess_function(examples,tokenizer):\n",
        "#   return tokenizer(examples[\"text\"], truncation=True)\n"
      ]
    },
    {
      "cell_type": "markdown",
      "metadata": {
        "id": "c12LQj_Pim3h"
      },
      "source": [
        "1. First convert the text into prompt\n",
        "2. The MedInc is 3.5938. The HouseAge is 40.0. The AveRooms is 4.2. The AveBedrms is 0.9. The Population is 316.0. The AveOccup is 2.3. The Latitude is 36.96. The Longitude is -122.03."
      ]
    },
    {
      "cell_type": "code",
      "execution_count": 81,
      "metadata": {
        "colab": {
          "base_uri": "https://localhost:8080/",
          "height": 313
        },
        "id": "rX_nPcYFkX7-",
        "outputId": "ccfa28d2-9ced-442b-dd85-12ab27525ec4"
      },
      "outputs": [
        {
          "data": {
            "text/html": [
              "<div>\n",
              "<style scoped>\n",
              "    .dataframe tbody tr th:only-of-type {\n",
              "        vertical-align: middle;\n",
              "    }\n",
              "\n",
              "    .dataframe tbody tr th {\n",
              "        vertical-align: top;\n",
              "    }\n",
              "\n",
              "    .dataframe thead th {\n",
              "        text-align: right;\n",
              "    }\n",
              "</style>\n",
              "<table border=\"1\" class=\"dataframe\">\n",
              "  <thead>\n",
              "    <tr style=\"text-align: right;\">\n",
              "      <th></th>\n",
              "      <th>index</th>\n",
              "      <th>MedInc</th>\n",
              "      <th>HouseAge</th>\n",
              "      <th>AveRooms</th>\n",
              "      <th>AveBedrms</th>\n",
              "      <th>Population</th>\n",
              "      <th>AveOccup</th>\n",
              "      <th>Latitude</th>\n",
              "      <th>Longitude</th>\n",
              "      <th>MedHouseVal</th>\n",
              "      <th>timestamp</th>\n",
              "      <th>anomaly</th>\n",
              "      <th>prediction</th>\n",
              "    </tr>\n",
              "  </thead>\n",
              "  <tbody>\n",
              "    <tr>\n",
              "      <th>0</th>\n",
              "      <td>19653</td>\n",
              "      <td>1.9429</td>\n",
              "      <td>39.0</td>\n",
              "      <td>3.853460</td>\n",
              "      <td>0.994573</td>\n",
              "      <td>2606.0</td>\n",
              "      <td>3.535957</td>\n",
              "      <td>37.49</td>\n",
              "      <td>-120.85</td>\n",
              "      <td>0.764</td>\n",
              "      <td>2024-01-03 21:37:09.787351</td>\n",
              "      <td>False</td>\n",
              "      <td>1.252102</td>\n",
              "    </tr>\n",
              "    <tr>\n",
              "      <th>1</th>\n",
              "      <td>9332</td>\n",
              "      <td>5.5789</td>\n",
              "      <td>36.0</td>\n",
              "      <td>5.365462</td>\n",
              "      <td>1.036145</td>\n",
              "      <td>678.0</td>\n",
              "      <td>2.722892</td>\n",
              "      <td>38.01</td>\n",
              "      <td>-122.64</td>\n",
              "      <td>2.920</td>\n",
              "      <td>2024-01-03 21:37:09.787351</td>\n",
              "      <td>False</td>\n",
              "      <td>2.869920</td>\n",
              "    </tr>\n",
              "    <tr>\n",
              "      <th>2</th>\n",
              "      <td>7759</td>\n",
              "      <td>4.4750</td>\n",
              "      <td>36.0</td>\n",
              "      <td>5.452736</td>\n",
              "      <td>1.014925</td>\n",
              "      <td>569.0</td>\n",
              "      <td>2.830846</td>\n",
              "      <td>33.91</td>\n",
              "      <td>-118.14</td>\n",
              "      <td>1.823</td>\n",
              "      <td>2024-01-03 21:37:09.787351</td>\n",
              "      <td>False</td>\n",
              "      <td>1.874355</td>\n",
              "    </tr>\n",
              "    <tr>\n",
              "      <th>3</th>\n",
              "      <td>13957</td>\n",
              "      <td>5.5762</td>\n",
              "      <td>17.0</td>\n",
              "      <td>10.359649</td>\n",
              "      <td>2.377193</td>\n",
              "      <td>248.0</td>\n",
              "      <td>2.175439</td>\n",
              "      <td>34.17</td>\n",
              "      <td>-117.13</td>\n",
              "      <td>1.500</td>\n",
              "      <td>2024-01-03 21:37:09.787351</td>\n",
              "      <td>False</td>\n",
              "      <td>2.954535</td>\n",
              "    </tr>\n",
              "    <tr>\n",
              "      <th>4</th>\n",
              "      <td>4137</td>\n",
              "      <td>4.2100</td>\n",
              "      <td>45.0</td>\n",
              "      <td>5.089172</td>\n",
              "      <td>1.036093</td>\n",
              "      <td>1569.0</td>\n",
              "      <td>3.331210</td>\n",
              "      <td>34.12</td>\n",
              "      <td>-118.18</td>\n",
              "      <td>1.679</td>\n",
              "      <td>2024-01-03 21:37:09.787351</td>\n",
              "      <td>False</td>\n",
              "      <td>1.764596</td>\n",
              "    </tr>\n",
              "  </tbody>\n",
              "</table>\n",
              "</div>"
            ],
            "text/plain": [
              "   index  MedInc  HouseAge   AveRooms  AveBedrms  Population  AveOccup  \\\n",
              "0  19653  1.9429      39.0   3.853460   0.994573      2606.0  3.535957   \n",
              "1   9332  5.5789      36.0   5.365462   1.036145       678.0  2.722892   \n",
              "2   7759  4.4750      36.0   5.452736   1.014925       569.0  2.830846   \n",
              "3  13957  5.5762      17.0  10.359649   2.377193       248.0  2.175439   \n",
              "4   4137  4.2100      45.0   5.089172   1.036093      1569.0  3.331210   \n",
              "\n",
              "   Latitude  Longitude  MedHouseVal                  timestamp  anomaly  \\\n",
              "0     37.49    -120.85        0.764 2024-01-03 21:37:09.787351    False   \n",
              "1     38.01    -122.64        2.920 2024-01-03 21:37:09.787351    False   \n",
              "2     33.91    -118.14        1.823 2024-01-03 21:37:09.787351    False   \n",
              "3     34.17    -117.13        1.500 2024-01-03 21:37:09.787351    False   \n",
              "4     34.12    -118.18        1.679 2024-01-03 21:37:09.787351    False   \n",
              "\n",
              "   prediction  \n",
              "0    1.252102  \n",
              "1    2.869920  \n",
              "2    1.874355  \n",
              "3    2.954535  \n",
              "4    1.764596  "
            ]
          },
          "execution_count": 81,
          "metadata": {},
          "output_type": "execute_result"
        }
      ],
      "source": [
        "train.head()"
      ]
    },
    {
      "cell_type": "code",
      "execution_count": 82,
      "metadata": {
        "colab": {
          "base_uri": "https://localhost:8080/"
        },
        "id": "OFBLRdWmkfBU",
        "outputId": "9a50a4fc-02ed-4c1a-d03c-99b16fe866d6"
      },
      "outputs": [
        {
          "data": {
            "text/plain": [
              "Index(['MedInc', 'HouseAge', 'AveRooms', 'AveBedrms', 'Population', 'AveOccup',\n",
              "       'Latitude', 'Longitude'],\n",
              "      dtype='object')"
            ]
          },
          "execution_count": 82,
          "metadata": {},
          "output_type": "execute_result"
        }
      ],
      "source": [
        "X_cols"
      ]
    },
    {
      "cell_type": "code",
      "execution_count": 83,
      "metadata": {
        "id": "iiPte4acjiC9"
      },
      "outputs": [],
      "source": [
        "def generate_prompt(row):\n",
        "    return ' '.join(f'The {col} is {row[col]}' for col in row.index)\n",
        "\n",
        "# Apply the function to each row\n",
        "train['tabular_vector'] = train[X_cols].apply(generate_prompt, axis=1)"
      ]
    },
    {
      "cell_type": "code",
      "execution_count": 84,
      "metadata": {
        "colab": {
          "base_uri": "https://localhost:8080/",
          "height": 486
        },
        "id": "knDhkw42lPcv",
        "outputId": "5bd04dfb-ab5d-4af0-d432-da41f4d61fc1"
      },
      "outputs": [
        {
          "data": {
            "text/html": [
              "<div>\n",
              "<style scoped>\n",
              "    .dataframe tbody tr th:only-of-type {\n",
              "        vertical-align: middle;\n",
              "    }\n",
              "\n",
              "    .dataframe tbody tr th {\n",
              "        vertical-align: top;\n",
              "    }\n",
              "\n",
              "    .dataframe thead th {\n",
              "        text-align: right;\n",
              "    }\n",
              "</style>\n",
              "<table border=\"1\" class=\"dataframe\">\n",
              "  <thead>\n",
              "    <tr style=\"text-align: right;\">\n",
              "      <th></th>\n",
              "      <th>index</th>\n",
              "      <th>MedInc</th>\n",
              "      <th>HouseAge</th>\n",
              "      <th>AveRooms</th>\n",
              "      <th>AveBedrms</th>\n",
              "      <th>Population</th>\n",
              "      <th>AveOccup</th>\n",
              "      <th>Latitude</th>\n",
              "      <th>Longitude</th>\n",
              "      <th>MedHouseVal</th>\n",
              "      <th>timestamp</th>\n",
              "      <th>anomaly</th>\n",
              "      <th>prediction</th>\n",
              "      <th>tabular_vector</th>\n",
              "    </tr>\n",
              "  </thead>\n",
              "  <tbody>\n",
              "    <tr>\n",
              "      <th>0</th>\n",
              "      <td>4134</td>\n",
              "      <td>3.3542</td>\n",
              "      <td>52.0</td>\n",
              "      <td>4.882716</td>\n",
              "      <td>1.074074</td>\n",
              "      <td>501.0</td>\n",
              "      <td>3.092593</td>\n",
              "      <td>34.13</td>\n",
              "      <td>-118.22</td>\n",
              "      <td>1.781</td>\n",
              "      <td>2023-12-25 23:59:59.999999</td>\n",
              "      <td>False</td>\n",
              "      <td>1.814180</td>\n",
              "      <td>The MedInc is 3.3542 The HouseAge is 52.0 The ...</td>\n",
              "    </tr>\n",
              "    <tr>\n",
              "      <th>1</th>\n",
              "      <td>8333</td>\n",
              "      <td>4.2917</td>\n",
              "      <td>37.0</td>\n",
              "      <td>5.148594</td>\n",
              "      <td>0.979920</td>\n",
              "      <td>852.0</td>\n",
              "      <td>3.421687</td>\n",
              "      <td>33.93</td>\n",
              "      <td>-118.31</td>\n",
              "      <td>1.279</td>\n",
              "      <td>2024-01-01 23:59:59.999999</td>\n",
              "      <td>False</td>\n",
              "      <td>1.722839</td>\n",
              "      <td>The MedInc is 4.2917 The HouseAge is 37.0 The ...</td>\n",
              "    </tr>\n",
              "    <tr>\n",
              "      <th>2</th>\n",
              "      <td>3803</td>\n",
              "      <td>4.1250</td>\n",
              "      <td>26.0</td>\n",
              "      <td>4.479687</td>\n",
              "      <td>1.048437</td>\n",
              "      <td>1955.0</td>\n",
              "      <td>3.054688</td>\n",
              "      <td>34.21</td>\n",
              "      <td>-118.43</td>\n",
              "      <td>2.265</td>\n",
              "      <td>2024-01-01 23:59:59.999999</td>\n",
              "      <td>False</td>\n",
              "      <td>1.723129</td>\n",
              "      <td>The MedInc is 4.125 The HouseAge is 26.0 The A...</td>\n",
              "    </tr>\n",
              "    <tr>\n",
              "      <th>3</th>\n",
              "      <td>848</td>\n",
              "      <td>5.2250</td>\n",
              "      <td>16.0</td>\n",
              "      <td>5.502907</td>\n",
              "      <td>0.982558</td>\n",
              "      <td>1461.0</td>\n",
              "      <td>4.247093</td>\n",
              "      <td>37.58</td>\n",
              "      <td>-122.07</td>\n",
              "      <td>2.137</td>\n",
              "      <td>2023-12-31 23:59:59.999999</td>\n",
              "      <td>False</td>\n",
              "      <td>2.112231</td>\n",
              "      <td>The MedInc is 5.225 The HouseAge is 16.0 The A...</td>\n",
              "    </tr>\n",
              "    <tr>\n",
              "      <th>4</th>\n",
              "      <td>7889</td>\n",
              "      <td>5.8855</td>\n",
              "      <td>18.0</td>\n",
              "      <td>6.535809</td>\n",
              "      <td>1.025199</td>\n",
              "      <td>2952.0</td>\n",
              "      <td>3.915119</td>\n",
              "      <td>33.87</td>\n",
              "      <td>-118.05</td>\n",
              "      <td>3.138</td>\n",
              "      <td>2023-12-25 23:59:59.999999</td>\n",
              "      <td>False</td>\n",
              "      <td>2.498324</td>\n",
              "      <td>The MedInc is 5.8855 The HouseAge is 18.0 The ...</td>\n",
              "    </tr>\n",
              "  </tbody>\n",
              "</table>\n",
              "</div>"
            ],
            "text/plain": [
              "   index  MedInc  HouseAge  AveRooms  AveBedrms  Population  AveOccup  \\\n",
              "0   4134  3.3542      52.0  4.882716   1.074074       501.0  3.092593   \n",
              "1   8333  4.2917      37.0  5.148594   0.979920       852.0  3.421687   \n",
              "2   3803  4.1250      26.0  4.479687   1.048437      1955.0  3.054688   \n",
              "3    848  5.2250      16.0  5.502907   0.982558      1461.0  4.247093   \n",
              "4   7889  5.8855      18.0  6.535809   1.025199      2952.0  3.915119   \n",
              "\n",
              "   Latitude  Longitude  MedHouseVal                  timestamp  anomaly  \\\n",
              "0     34.13    -118.22        1.781 2023-12-25 23:59:59.999999    False   \n",
              "1     33.93    -118.31        1.279 2024-01-01 23:59:59.999999    False   \n",
              "2     34.21    -118.43        2.265 2024-01-01 23:59:59.999999    False   \n",
              "3     37.58    -122.07        2.137 2023-12-31 23:59:59.999999    False   \n",
              "4     33.87    -118.05        3.138 2023-12-25 23:59:59.999999    False   \n",
              "\n",
              "   prediction                                     tabular_vector  \n",
              "0    1.814180  The MedInc is 3.3542 The HouseAge is 52.0 The ...  \n",
              "1    1.722839  The MedInc is 4.2917 The HouseAge is 37.0 The ...  \n",
              "2    1.723129  The MedInc is 4.125 The HouseAge is 26.0 The A...  \n",
              "3    2.112231  The MedInc is 5.225 The HouseAge is 16.0 The A...  \n",
              "4    2.498324  The MedInc is 5.8855 The HouseAge is 18.0 The ...  "
            ]
          },
          "execution_count": 84,
          "metadata": {},
          "output_type": "execute_result"
        }
      ],
      "source": [
        "#do the same for prod data\n",
        "prod['tabular_vector'] = prod[X_cols].apply(generate_prompt, axis=1)\n",
        "prod.head()"
      ]
    },
    {
      "cell_type": "markdown",
      "metadata": {
        "id": "_5M6Hnjxlrq4"
      },
      "source": [
        "#Create a model id\n"
      ]
    },
    {
      "cell_type": "code",
      "execution_count": 85,
      "metadata": {
        "colab": {
          "base_uri": "https://localhost:8080/"
        },
        "id": "yotOC85ZlrDL",
        "outputId": "b023de7c-387e-48ce-d9f7-2c47618dd225"
      },
      "outputs": [
        {
          "name": "stdout",
          "output_type": "stream",
          "text": [
            "days with anomalies: 3083\n",
            "actual anomalies: 90\n",
            "fraction anolalies: 0.0292\n",
            "model name is: \n",
            "  anomaly-2024_01_03_21:01-frac_anom_0.03-quant_0.6-anom_columns_4\n"
          ]
        }
      ],
      "source": [
        "obs_in_anomaly_window = len(            # Observations in anomaly window\n",
        "    prod[\n",
        "         ( prod['timestamp'] >= anom_start) & ( prod['timestamp'] <= anom_end )\n",
        "        ]\n",
        ")\n",
        "\n",
        "actual_anomalies = sum(prod.anomaly)    # Number of anomalies\n",
        "\n",
        "final_anomaly_fraction = actual_anomalies/obs_in_anomaly_window\n",
        "\n",
        "print( \"days with anomalies: \" + str( obs_in_anomaly_window ) )\n",
        "print( \"actual anomalies: \" + str( actual_anomalies) )\n",
        "print( \"fraction anolalies: \" + str( np.round(final_anomaly_fraction, 4) ) )\n",
        "\n",
        "# Lets create a model ID based on time for this run - as a string\n",
        "#import datetime\n",
        "\n",
        "model_id = \"anomaly-\" + \\\n",
        "  datetime.now().strftime( \"%Y_%m_%d_%H:%m\" ) + \\\n",
        "  \"-frac_anom_\" + \"{:.2f}\".format(round(final_anomaly_fraction, 2)) + \\\n",
        "  \"-quant_\" + str(anomaly_quantile) + \\\n",
        "  \"-anom_columns_\" + str(len(anomaly_cols))\n",
        "\n",
        "print( \"model name is: \\n  \" + model_id )"
      ]
    },
    {
      "cell_type": "markdown",
      "metadata": {
        "id": "uis8UzbmmoYE"
      },
      "source": [
        "#Now start embeding the text"
      ]
    },
    {
      "cell_type": "code",
      "execution_count": 86,
      "metadata": {
        "id": "E5GUlcZxmsdX"
      },
      "outputs": [],
      "source": [
        "sentences_train = train['tabular_vector'].to_list()\n",
        "sentences_prod = prod['tabular_vector'].to_list()"
      ]
    },
    {
      "cell_type": "code",
      "execution_count": 87,
      "metadata": {
        "id": "bLDcweQ3nnug"
      },
      "outputs": [],
      "source": [
        "# from torch.utils.data import DataLoader\n",
        "\n",
        "# def sentence_embedding(sentences, batch_size=16):\n",
        "\n",
        "#     # Create a DataLoader\n",
        "#     dataloader = DataLoader(sentences, batch_size=batch_size)\n",
        "\n",
        "#     all_embeddings = []\n",
        "\n",
        "#     for batch in dataloader:\n",
        "#         # Encode the text\n",
        "#         encoded_inputs = tokenizer(batch, return_tensors='pt', padding=True, truncation=True, max_length=512)\n",
        "\n",
        "#         # Get the model output\n",
        "#         outputs = model(**encoded_inputs)\n",
        "\n",
        "#         # The output is a tuple, we're interested in the first element which are the embeddings\n",
        "#         embeddings = outputs[0]\n",
        "\n",
        "#         # Average the token vectors to get a sentence vector\n",
        "#         sentence_embeddings = embeddings.mean(dim=1)\n",
        "\n",
        "#         all_embeddings.append(sentence_embeddings)\n",
        "\n",
        "#     # Concatenate all embeddings\n",
        "#     all_embeddings = torch.cat(all_embeddings)\n",
        "\n",
        "#     return all_embeddings\n"
      ]
    },
    {
      "cell_type": "code",
      "execution_count": null,
      "metadata": {},
      "outputs": [],
      "source": [
        "\n",
        "def sentence_embedding(data:str):\n",
        "   \n",
        "    # Encode the text\n",
        "    encoded_inputs = tokenizer(data, return_tensors='pt', padding=True, truncation=True, max_length=512)\n",
        "\n",
        "    # Get the model output\n",
        "    outputs = model(**encoded_inputs)\n",
        "\n",
        "    # The output is a tuple, we're interested in the first element which are the embeddings\n",
        "    embeddings = outputs[0]\n",
        "\n",
        "    # Average the token vectors to get a sentence vector\n",
        "    sentence_embeddings = embeddings.mean(dim=1)\n",
        "\n",
        "    return sentence_embeddings\n",
        "\n",
        "\n"
      ]
    },
    {
      "cell_type": "markdown",
      "metadata": {
        "id": "smDht5M88gIf"
      },
      "source": [
        "## Embeddings"
      ]
    },
    {
      "cell_type": "code",
      "execution_count": null,
      "metadata": {
        "id": "MyirqGn2zpLY"
      },
      "outputs": [],
      "source": [
        "# import re\n",
        "# from tqdm import tqdm\n",
        "# def generate_export_embeddings(file_name:str, text, step_size:int):\n",
        "#   \"\"\"\n",
        "\n",
        "#     reads two inputs file name and dataframe, step size\n",
        "\n",
        "#   \"\"\"\n",
        "#   try:\n",
        "#     is_first = True\n",
        "#     row_number = 0\n",
        "#     with open(file_name,'w') as file:\n",
        "#           file.write('{')\n",
        "#     for iteration in range(0,len(text),step_size):\n",
        "#       sentences = sentences_train[iteration:iteration + step_size]\n",
        "\n",
        "#       for i in tqdm(sentence_embedding(sentences)):\n",
        "#         if not is_first:\n",
        "#           with open(file_name,'a') as file:\n",
        "#             file.write(',')\n",
        "#         pattern = \"\\[.*\\]\"\n",
        "#         text = str(i).replace('        ', '').replace(\"\\n\", \"\")\n",
        "#         matches = re.findall(pattern, text)\n",
        "#         # print(matches)\n",
        "#         with open(file_name,'a') as file:\n",
        "#           file.write('\"' + str(row_number) + '\":' + matches[0])\n",
        "#           row_number+=1\n",
        "#           is_first = False\n",
        "          \n",
        "#     with open(file_name,'a') as file:\n",
        "#           file.write('}')\n",
        "\n",
        "#     return \"Completed!!\"\n",
        "#   except Exception as E:\n",
        "#     return E"
      ]
    },
    {
      "cell_type": "code",
      "execution_count": null,
      "metadata": {},
      "outputs": [],
      "source": [
        "import json\n",
        "from tqdm import tqdm\n",
        "def generate_export_embeddings2(file_name:str, text):\n",
        "  \"\"\"\n",
        "\n",
        "    reads two inputs file name and dataframe\n",
        "\n",
        "  \"\"\"\n",
        "  embeddings_list = dict()\n",
        "  key_count = 0\n",
        "  try:\n",
        "    for i in tqdm(text):\n",
        "      embeddings_list[key_count] = sentence_embedding(i).tolist()[0]\n",
        "      key_count += 1\n",
        "\n",
        "\n",
        "    with open(file_name, 'w') as f:\n",
        "      json.dump(embeddings_list, f)\n",
        "\n",
        "    return 'completed!!'\n",
        "  except Exception as E:\n",
        "    return E"
      ]
    },
    {
      "cell_type": "code",
      "execution_count": null,
      "metadata": {
        "colab": {
          "base_uri": "https://localhost:8080/",
          "height": 53
        },
        "id": "DmaEpBCiJAjc",
        "outputId": "6c78a8fe-e535-4d15-f362-e6e6a5ceb6a2"
      },
      "outputs": [],
      "source": [
        "generate_export_embeddings2('train_embeddings.json', sentences_train)"
      ]
    },
    {
      "cell_type": "code",
      "execution_count": null,
      "metadata": {},
      "outputs": [],
      "source": [
        "generate_export_embeddings2('prod_embeddings.json', sentences_prod)"
      ]
    },
    {
      "cell_type": "code",
      "execution_count": 37,
      "metadata": {
        "id": "yhoTdgBz4UHk"
      },
      "outputs": [],
      "source": [
        "# prompt: read json file and read by keys\n",
        "\n",
        "import json\n",
        "with open('train_embeddings.json') as file:\n",
        "  train_embeddings = json.loads(file.read())\n",
        "\n",
        "\n",
        "with open('prod_embeddings.json') as file:\n",
        "  prod_embeddings = json.loads(file.read())\n"
      ]
    },
    {
      "cell_type": "code",
      "execution_count": 2,
      "metadata": {},
      "outputs": [],
      "source": [
        "X_train = list()\n",
        "for key, value in train_embeddings.items():\n",
        "  X_train.append(value)\n",
        "\n",
        "X_prod = list(prod_embeddings.values())"
      ]
    },
    {
      "cell_type": "markdown",
      "metadata": {
        "id": "XJV0yaCS8VXj"
      },
      "source": [
        "## UMAP"
      ]
    },
    {
      "cell_type": "code",
      "execution_count": null,
      "metadata": {
        "id": "sT2zk2pm0uAW"
      },
      "outputs": [],
      "source": [
        "# ! pip install umap -q\n",
        "# ! pip install umap-learn -q\n"
      ]
    },
    {
      "cell_type": "code",
      "execution_count": 5,
      "metadata": {
        "id": "Zk0FbaXk6lJ0"
      },
      "outputs": [],
      "source": [
        "# prompt: run umap\n",
        "\n",
        "import umap\n",
        "import numpy as np\n",
        "import matplotlib.pyplot as plt\n",
        "\n",
        "# Create a UMAP object\n",
        "umap_model = umap.UMAP(n_components=2)\n"
      ]
    },
    {
      "cell_type": "code",
      "execution_count": null,
      "metadata": {},
      "outputs": [],
      "source": [
        "from sklearn.preprocessing import StandardScaler\n",
        "SS =  StandardScaler()\n",
        "scaled_X = SS.fit_transform(X_train)"
      ]
    },
    {
      "cell_type": "code",
      "execution_count": null,
      "metadata": {},
      "outputs": [],
      "source": [
        "\n",
        "# Fit the UMAP model to the data\n",
        "umap_model.fit(scaled_X)"
      ]
    },
    {
      "cell_type": "code",
      "execution_count": null,
      "metadata": {},
      "outputs": [],
      "source": [
        "# save model to pickle for further use\n",
        "import pickle\n",
        "\n",
        "with open(\"umap_model.pkl\", \"wb\") as f:\n",
        "    pickle.dump(umap_model, f)\n",
        "\n",
        "# with open(\"umap_model.pkl\", \"rb\") as f:\n",
        "#     model = pickle.load(f)"
      ]
    },
    {
      "cell_type": "code",
      "execution_count": null,
      "metadata": {},
      "outputs": [],
      "source": [
        "# prompt: plot umap_model.trasform\n",
        "\n",
        "umap_embedding = umap_model.transform(scaled_X)\n",
        "# Plot the UMAP embedding\n",
        "plt.scatter(umap_embedding[:, 0], umap_embedding[:, 1])\n",
        "plt.show()\n"
      ]
    },
    {
      "cell_type": "code",
      "execution_count": null,
      "metadata": {
        "colab": {
          "base_uri": "https://localhost:8080/",
          "height": 431
        },
        "id": "wpfHVfYM_WbG",
        "outputId": "ee182aea-98f1-4902-b0ed-aff8c2d8ef41"
      },
      "outputs": [],
      "source": [
        "# prompt: plot umap_model.trasform\n",
        "\n",
        "X_prod_scaled = SS.transform(X_prod)\n",
        "umap_embedding = umap_model.transform(X_prod_scaled)\n",
        "# Plot the UMAP embedding\n",
        "plt.scatter(umap_embedding[:, 0], umap_embedding[:, 1])\n",
        "plt.show()\n"
      ]
    },
    {
      "cell_type": "markdown",
      "metadata": {
        "id": "vL0BOFuE-LUF"
      },
      "source": [
        "## DBScan"
      ]
    },
    {
      "cell_type": "code",
      "execution_count": null,
      "metadata": {},
      "outputs": [],
      "source": [
        "from sklearn.cluster import DBSCAN\n",
        "import numpy as np\n",
        "\n",
        "\n",
        "# Perform DBSCAN\n",
        "db = DBSCAN(eps=0.3, min_samples=1000).fit(scaled_X)\n",
        "\n",
        "# Get cluster labels\n",
        "labels = db.labels_\n",
        "\n",
        "# Number of clusters in labels, ignoring noise if present\n",
        "n_clusters = len(set(labels)) - (1 if -1 in labels else 0)\n",
        "print(f'Estimated number of clusters: {n_clusters}')\n"
      ]
    },
    {
      "cell_type": "code",
      "execution_count": null,
      "metadata": {},
      "outputs": [],
      "source": [
        "# db.predict(X_prod)\n",
        "np.unique(db.fit_predict(X_prod))"
      ]
    },
    {
      "cell_type": "code",
      "execution_count": null,
      "metadata": {},
      "outputs": [],
      "source": [
        "from scipy.cluster.hierarchy import linkage, dendrogram\n",
        "from matplotlib import pyplot as plt\n",
        "\n",
        "# Create sample data\n",
        "data = list(prod_embeddings.values())\n",
        "\n",
        "# Compute the linkage: Merges clusters based on their distance\n",
        "Z = linkage(data, method='ward') \n",
        "\n",
        "# Plot the dendrogram\n",
        "dendrogram(Z)\n",
        "plt.title('Hierarchical Clustering Dendrogram')\n",
        "plt.xlabel('sample index')\n",
        "plt.ylabel('distance')\n",
        "plt.show()\n"
      ]
    },
    {
      "cell_type": "code",
      "execution_count": null,
      "metadata": {},
      "outputs": [],
      "source": [
        "plt.show()"
      ]
    },
    {
      "cell_type": "code",
      "execution_count": 95,
      "metadata": {},
      "outputs": [],
      "source": [
        "import numpy as np\n",
        "xtrain_mean = list()\n",
        "xtrain_median = list()\n",
        "for i in range(len(X_train)):\n",
        "    xtrain_mean.append(np.mean(X_train[i][:]))\n",
        "    xtrain_median.append(np.median(X_train[i][:]))\n"
      ]
    },
    {
      "cell_type": "markdown",
      "metadata": {},
      "source": [
        "## Visualization"
      ]
    },
    {
      "cell_type": "code",
      "execution_count": 97,
      "metadata": {},
      "outputs": [],
      "source": [
        "prod_mean = list()\n",
        "prod_median = list()\n",
        "for i in range(len(X_prod)):\n",
        "    prod_mean.append(np.mean(X_prod[i][:]))\n",
        "    prod_median.append(np.median(X_prod[i][:]))"
      ]
    },
    {
      "cell_type": "code",
      "execution_count": 98,
      "metadata": {},
      "outputs": [
        {
          "name": "stderr",
          "output_type": "stream",
          "text": [
            "C:\\Users\\sadak\\AppData\\Local\\Temp\\ipykernel_6068\\2126744852.py:2: SettingWithCopyWarning: \n",
            "A value is trying to be set on a copy of a slice from a DataFrame.\n",
            "Try using .loc[row_indexer,col_indexer] = value instead\n",
            "\n",
            "See the caveats in the documentation: https://pandas.pydata.org/pandas-docs/stable/user_guide/indexing.html#returning-a-view-versus-a-copy\n",
            "  new_prod_df['mean'] = prod_mean\n",
            "C:\\Users\\sadak\\AppData\\Local\\Temp\\ipykernel_6068\\2126744852.py:3: SettingWithCopyWarning: \n",
            "A value is trying to be set on a copy of a slice from a DataFrame.\n",
            "Try using .loc[row_indexer,col_indexer] = value instead\n",
            "\n",
            "See the caveats in the documentation: https://pandas.pydata.org/pandas-docs/stable/user_guide/indexing.html#returning-a-view-versus-a-copy\n",
            "  new_prod_df['median'] = prod_median\n"
          ]
        },
        {
          "data": {
            "text/html": [
              "<div>\n",
              "<style scoped>\n",
              "    .dataframe tbody tr th:only-of-type {\n",
              "        vertical-align: middle;\n",
              "    }\n",
              "\n",
              "    .dataframe tbody tr th {\n",
              "        vertical-align: top;\n",
              "    }\n",
              "\n",
              "    .dataframe thead th {\n",
              "        text-align: right;\n",
              "    }\n",
              "</style>\n",
              "<table border=\"1\" class=\"dataframe\">\n",
              "  <thead>\n",
              "    <tr style=\"text-align: right;\">\n",
              "      <th></th>\n",
              "      <th>index</th>\n",
              "      <th>timestamp</th>\n",
              "      <th>mean</th>\n",
              "      <th>median</th>\n",
              "    </tr>\n",
              "  </thead>\n",
              "  <tbody>\n",
              "    <tr>\n",
              "      <th>0</th>\n",
              "      <td>4134</td>\n",
              "      <td>2023-12-25 23:59:59.999999</td>\n",
              "      <td>-0.010828</td>\n",
              "      <td>-0.010493</td>\n",
              "    </tr>\n",
              "    <tr>\n",
              "      <th>1</th>\n",
              "      <td>8333</td>\n",
              "      <td>2024-01-01 23:59:59.999999</td>\n",
              "      <td>-0.010904</td>\n",
              "      <td>-0.007079</td>\n",
              "    </tr>\n",
              "    <tr>\n",
              "      <th>2</th>\n",
              "      <td>3803</td>\n",
              "      <td>2024-01-01 23:59:59.999999</td>\n",
              "      <td>-0.010694</td>\n",
              "      <td>-0.012225</td>\n",
              "    </tr>\n",
              "    <tr>\n",
              "      <th>3</th>\n",
              "      <td>848</td>\n",
              "      <td>2023-12-31 23:59:59.999999</td>\n",
              "      <td>-0.010666</td>\n",
              "      <td>-0.000943</td>\n",
              "    </tr>\n",
              "    <tr>\n",
              "      <th>4</th>\n",
              "      <td>7889</td>\n",
              "      <td>2023-12-25 23:59:59.999999</td>\n",
              "      <td>-0.010607</td>\n",
              "      <td>-0.003311</td>\n",
              "    </tr>\n",
              "  </tbody>\n",
              "</table>\n",
              "</div>"
            ],
            "text/plain": [
              "   index                  timestamp      mean    median\n",
              "0   4134 2023-12-25 23:59:59.999999 -0.010828 -0.010493\n",
              "1   8333 2024-01-01 23:59:59.999999 -0.010904 -0.007079\n",
              "2   3803 2024-01-01 23:59:59.999999 -0.010694 -0.012225\n",
              "3    848 2023-12-31 23:59:59.999999 -0.010666 -0.000943\n",
              "4   7889 2023-12-25 23:59:59.999999 -0.010607 -0.003311"
            ]
          },
          "execution_count": 98,
          "metadata": {},
          "output_type": "execute_result"
        }
      ],
      "source": [
        "new_prod_df= prod[['index','timestamp']]\n",
        "new_prod_df['mean'] = prod_mean\n",
        "new_prod_df['median'] = prod_median\n",
        "new_prod_df.head()"
      ]
    },
    {
      "cell_type": "code",
      "execution_count": 178,
      "metadata": {},
      "outputs": [
        {
          "data": {
            "text/html": [
              "<div>\n",
              "<style scoped>\n",
              "    .dataframe tbody tr th:only-of-type {\n",
              "        vertical-align: middle;\n",
              "    }\n",
              "\n",
              "    .dataframe tbody tr th {\n",
              "        vertical-align: top;\n",
              "    }\n",
              "\n",
              "    .dataframe thead th {\n",
              "        text-align: right;\n",
              "    }\n",
              "</style>\n",
              "<table border=\"1\" class=\"dataframe\">\n",
              "  <thead>\n",
              "    <tr style=\"text-align: right;\">\n",
              "      <th></th>\n",
              "      <th>timestamp</th>\n",
              "      <th>mean</th>\n",
              "      <th>median</th>\n",
              "      <th>count</th>\n",
              "    </tr>\n",
              "  </thead>\n",
              "  <tbody>\n",
              "    <tr>\n",
              "      <th>0</th>\n",
              "      <td>2023-12-14 23:59:59.999999</td>\n",
              "      <td>-0.010800</td>\n",
              "      <td>-0.009475</td>\n",
              "      <td>1530</td>\n",
              "    </tr>\n",
              "    <tr>\n",
              "      <th>1</th>\n",
              "      <td>2023-12-15 23:59:59.999999</td>\n",
              "      <td>-0.010803</td>\n",
              "      <td>-0.009283</td>\n",
              "      <td>920</td>\n",
              "    </tr>\n",
              "    <tr>\n",
              "      <th>2</th>\n",
              "      <td>2023-12-16 23:59:59.999999</td>\n",
              "      <td>-0.010802</td>\n",
              "      <td>-0.009187</td>\n",
              "      <td>570</td>\n",
              "    </tr>\n",
              "    <tr>\n",
              "      <th>3</th>\n",
              "      <td>2023-12-17 23:59:59.999999</td>\n",
              "      <td>-0.010802</td>\n",
              "      <td>-0.009439</td>\n",
              "      <td>1756</td>\n",
              "    </tr>\n",
              "    <tr>\n",
              "      <th>4</th>\n",
              "      <td>2023-12-18 23:59:59.999999</td>\n",
              "      <td>-0.010798</td>\n",
              "      <td>-0.009175</td>\n",
              "      <td>1665</td>\n",
              "    </tr>\n",
              "    <tr>\n",
              "      <th>...</th>\n",
              "      <td>...</td>\n",
              "      <td>...</td>\n",
              "      <td>...</td>\n",
              "      <td>...</td>\n",
              "    </tr>\n",
              "    <tr>\n",
              "      <th>105</th>\n",
              "      <td>2023-12-29 23:59:59.999999</td>\n",
              "      <td>-0.010815</td>\n",
              "      <td>-0.009372</td>\n",
              "      <td>1000</td>\n",
              "    </tr>\n",
              "    <tr>\n",
              "      <th>106</th>\n",
              "      <td>2023-12-30 23:59:59.999999</td>\n",
              "      <td>-0.010790</td>\n",
              "      <td>-0.009227</td>\n",
              "      <td>702</td>\n",
              "    </tr>\n",
              "    <tr>\n",
              "      <th>107</th>\n",
              "      <td>2023-12-31 23:59:59.999999</td>\n",
              "      <td>-0.010804</td>\n",
              "      <td>-0.009177</td>\n",
              "      <td>1087</td>\n",
              "    </tr>\n",
              "    <tr>\n",
              "      <th>108</th>\n",
              "      <td>2024-01-01 23:59:59.999999</td>\n",
              "      <td>-0.010805</td>\n",
              "      <td>-0.009251</td>\n",
              "      <td>1062</td>\n",
              "    </tr>\n",
              "    <tr>\n",
              "      <th>109</th>\n",
              "      <td>2024-01-02 23:59:59.999999</td>\n",
              "      <td>-0.010805</td>\n",
              "      <td>-0.009395</td>\n",
              "      <td>893</td>\n",
              "    </tr>\n",
              "  </tbody>\n",
              "</table>\n",
              "<p>110 rows × 4 columns</p>\n",
              "</div>"
            ],
            "text/plain": [
              "                     timestamp      mean    median  count\n",
              "0   2023-12-14 23:59:59.999999 -0.010800 -0.009475   1530\n",
              "1   2023-12-15 23:59:59.999999 -0.010803 -0.009283    920\n",
              "2   2023-12-16 23:59:59.999999 -0.010802 -0.009187    570\n",
              "3   2023-12-17 23:59:59.999999 -0.010802 -0.009439   1756\n",
              "4   2023-12-18 23:59:59.999999 -0.010798 -0.009175   1665\n",
              "..                         ...       ...       ...    ...\n",
              "105 2023-12-29 23:59:59.999999 -0.010815 -0.009372   1000\n",
              "106 2023-12-30 23:59:59.999999 -0.010790 -0.009227    702\n",
              "107 2023-12-31 23:59:59.999999 -0.010804 -0.009177   1087\n",
              "108 2024-01-01 23:59:59.999999 -0.010805 -0.009251   1062\n",
              "109 2024-01-02 23:59:59.999999 -0.010805 -0.009395    893\n",
              "\n",
              "[110 rows x 4 columns]"
            ]
          },
          "execution_count": 178,
          "metadata": {},
          "output_type": "execute_result"
        }
      ],
      "source": [
        "temp_df = new_prod_df.groupby(by=['timestamp']).agg({'mean':'mean', 'median':'median', 'timestamp':'count'})\n",
        "temp_df.rename(columns={'timestamp':'count'}, inplace=True)\n",
        "temp_df.reset_index(inplace=True)\n",
        "temp_df"
      ]
    },
    {
      "cell_type": "code",
      "execution_count": 192,
      "metadata": {},
      "outputs": [
        {
          "data": {
            "image/png": "[encoded data removed]",
            "text/plain": [
              "<Figure size 640x480 with 1 Axes>"
            ]
          },
          "metadata": {},
          "output_type": "display_data"
        }
      ],
      "source": [
        "\n",
        "# Plot the histogram\n",
        "plt.hist(temp_df['timestamp'])\n",
        "\n",
        "# Plot the line \n",
        "plt.plot(temp_df['timestamp'], temp_df['count'])\n",
        "\n",
        "# Show the plot\n",
        "plt.show()\n"
      ]
    },
    {
      "cell_type": "code",
      "execution_count": 137,
      "metadata": {},
      "outputs": [
        {
          "data": {
            "text/html": [
              "<div>\n",
              "<style scoped>\n",
              "    .dataframe tbody tr th:only-of-type {\n",
              "        vertical-align: middle;\n",
              "    }\n",
              "\n",
              "    .dataframe tbody tr th {\n",
              "        vertical-align: top;\n",
              "    }\n",
              "\n",
              "    .dataframe thead th {\n",
              "        text-align: right;\n",
              "    }\n",
              "</style>\n",
              "<table border=\"1\" class=\"dataframe\">\n",
              "  <thead>\n",
              "    <tr style=\"text-align: right;\">\n",
              "      <th></th>\n",
              "      <th>mean</th>\n",
              "    </tr>\n",
              "    <tr>\n",
              "      <th>timestamp</th>\n",
              "      <th></th>\n",
              "    </tr>\n",
              "  </thead>\n",
              "  <tbody>\n",
              "    <tr>\n",
              "      <th>2023-12-28 17:55:05.229095680</th>\n",
              "      <td>-0.010535</td>\n",
              "    </tr>\n",
              "  </tbody>\n",
              "</table>\n",
              "</div>"
            ],
            "text/plain": [
              "                                   mean\n",
              "timestamp                              \n",
              "2023-12-28 17:55:05.229095680 -0.010535"
            ]
          },
          "execution_count": 137,
          "metadata": {},
          "output_type": "execute_result"
        }
      ],
      "source": [
        "temp_df[temp_df['mean']>=temp_df['mean'].max()]"
      ]
    },
    {
      "cell_type": "code",
      "execution_count": 141,
      "metadata": {},
      "outputs": [
        {
          "data": {
            "text/html": [
              "<div>\n",
              "<style scoped>\n",
              "    .dataframe tbody tr th:only-of-type {\n",
              "        vertical-align: middle;\n",
              "    }\n",
              "\n",
              "    .dataframe tbody tr th {\n",
              "        vertical-align: top;\n",
              "    }\n",
              "\n",
              "    .dataframe thead th {\n",
              "        text-align: right;\n",
              "    }\n",
              "</style>\n",
              "<table border=\"1\" class=\"dataframe\">\n",
              "  <thead>\n",
              "    <tr style=\"text-align: right;\">\n",
              "      <th></th>\n",
              "      <th>mean</th>\n",
              "    </tr>\n",
              "    <tr>\n",
              "      <th>timestamp</th>\n",
              "      <th></th>\n",
              "    </tr>\n",
              "  </thead>\n",
              "  <tbody>\n",
              "    <tr>\n",
              "      <th>2023-12-27 11:36:21.684869120</th>\n",
              "      <td>-0.011357</td>\n",
              "    </tr>\n",
              "  </tbody>\n",
              "</table>\n",
              "</div>"
            ],
            "text/plain": [
              "                                   mean\n",
              "timestamp                              \n",
              "2023-12-27 11:36:21.684869120 -0.011357"
            ]
          },
          "execution_count": 141,
          "metadata": {},
          "output_type": "execute_result"
        }
      ],
      "source": [
        "temp_df[temp_df['mean']<=temp_df['mean'].min()]"
      ]
    },
    {
      "cell_type": "code",
      "execution_count": 139,
      "metadata": {},
      "outputs": [
        {
          "data": {
            "text/plain": [
              "0    2023-12-28 14:56:18.466853888\n",
              "1    2023-12-27 11:43:33.212182784\n",
              "2    2023-12-27 17:24:09.281293824\n",
              "3    2023-12-28 13:15:54.697282304\n",
              "4    2023-12-27 19:16:53.274398464\n",
              "                  ...             \n",
              "85   2023-12-29 02:53:50.198213376\n",
              "86   2023-12-29 08:21:27.448379392\n",
              "87   2023-12-26 20:13:20.164763392\n",
              "88   2023-12-27 14:02:52.076538112\n",
              "89   2023-12-26 23:33:51.601413376\n",
              "Name: timestamp, Length: 90, dtype: datetime64[ns]"
            ]
          },
          "execution_count": 139,
          "metadata": {},
          "output_type": "execute_result"
        }
      ],
      "source": [
        "anomalies['timestamp']"
      ]
    },
    {
      "cell_type": "code",
      "execution_count": 129,
      "metadata": {},
      "outputs": [
        {
          "name": "stderr",
          "output_type": "stream",
          "text": [
            "C:\\Users\\sadak\\AppData\\Local\\Temp\\ipykernel_6068\\601592256.py:5: UserWarning: FixedFormatter should only be used together with FixedLocator\n",
            "  g.set_xticklabels(g.get_xticklabels(), rotation=90)\n"
          ]
        },
        {
          "data": {
            "image/png": "[encoded data removed]",
            "text/plain": [
              "<Figure size 640x480 with 1 Axes>"
            ]
          },
          "metadata": {},
          "output_type": "display_data"
        }
      ],
      "source": [
        "import seaborn as sns\n",
        "sns.set_theme(style=\"darkgrid\")\n",
        "sns.set_style(\"white\")\n",
        "g = sns.histplot(data=temp_df, x='timestamp', y='mean')\n",
        "g.set_xticklabels(g.get_xticklabels(), rotation=90)\n",
        "# g.set(xlim=(0, 7))\n",
        "plt.show()"
      ]
    },
    {
      "cell_type": "code",
      "execution_count": 101,
      "metadata": {},
      "outputs": [],
      "source": [
        "plt.show()"
      ]
    },
    {
      "cell_type": "code",
      "execution_count": 7,
      "metadata": {},
      "outputs": [
        {
          "data": {
            "image/png": "[encoded data removed]",
            "text/plain": [
              "<Figure size 640x480 with 1 Axes>"
            ]
          },
          "metadata": {},
          "output_type": "display_data"
        }
      ],
      "source": [
        "\n",
        "plt.hist(x=X_train[1:])\n",
        "plt.show()"
      ]
    },
    {
      "cell_type": "markdown",
      "metadata": {},
      "source": [
        "## Ecludian distance"
      ]
    },
    {
      "cell_type": "markdown",
      "metadata": {},
      "source": [
        "Our approach is to calculate the ecludian distance bettwen embeddings of prod data and temp_df"
      ]
    },
    {
      "cell_type": "code",
      "execution_count": 144,
      "metadata": {},
      "outputs": [
        {
          "data": {
            "image/png": "[encoded data removed]",
            "text/plain": [
              "<Figure size 640x480 with 1 Axes>"
            ]
          },
          "metadata": {},
          "output_type": "display_data"
        }
      ],
      "source": [
        "temp_df.reset_index(inplace=True)\n",
        "plt.plot(temp_df['timestamp'], temp_df['mean'], label = 'close' )\n",
        "plt.show()"
      ]
    },
    {
      "cell_type": "markdown",
      "metadata": {},
      "source": [
        "KS test, 1,2 sample"
      ]
    },
    {
      "cell_type": "code",
      "execution_count": 2,
      "metadata": {},
      "outputs": [
        {
          "ename": "NameError",
          "evalue": "name 'X_prod' is not defined",
          "output_type": "error",
          "traceback": [
            "\u001b[1;31m---------------------------------------------------------------------------\u001b[0m",
            "\u001b[1;31mNameError\u001b[0m                                 Traceback (most recent call last)",
            "Cell \u001b[1;32mIn[2], line 1\u001b[0m\n\u001b[1;32m----> 1\u001b[0m \u001b[43mX_prod\u001b[49m\n",
            "\u001b[1;31mNameError\u001b[0m: name 'X_prod' is not defined"
          ]
        }
      ],
      "source": [
        "X_prod"
      ]
    },
    {
      "cell_type": "code",
      "execution_count": 160,
      "metadata": {},
      "outputs": [],
      "source": [
        "temp_df"
      ]
    }
  ],
  "metadata": {
    "accelerator": "GPU",
    "colab": {
      "gpuType": "T4",
      "provenance": []
    },
    "kernelspec": {
      "display_name": "Python 3",
      "name": "python3"
    },
    "language_info": {
      "codemirror_mode": {
        "name": "ipython",
        "version": 3
      },
      "file_extension": ".py",
      "mimetype": "text/x-python",
      "name": "python",
      "nbconvert_exporter": "python",
      "pygments_lexer": "ipython3",
      "version": "3.11.7"
    }
  },
  "nbformat": 4,
  "nbformat_minor": 0
}
